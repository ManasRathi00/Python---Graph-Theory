{
 "cells": [
  {
   "cell_type": "markdown",
   "id": "a9e90dca",
   "metadata": {},
   "source": [
    "Creating a Dictionary of lists to store the information of shipments given in the table"
   ]
  },
  {
   "cell_type": "code",
   "execution_count": 19,
   "id": "f9e43c0d",
   "metadata": {},
   "outputs": [
    {
     "name": "stdout",
     "output_type": "stream",
     "text": [
      "{101: [1, 3, '14/03/2020', '25-03-2020', 'Area1', 'Area6', 'Delivered', 198], 102: [4, 1, '18-06-2020', '09-07-2020', 'Area2', 'Area4', 'Delivered', 275], 103: [2, 3, '01-12-2020', 'Null', 'Area5', 'Area1', 'In-Transit', 200], 104: [1, 2, '23-06-2020', '25-06-2020', 'Area1', 'Area4', 'Delivered', 314], 105: [3, 4, '29-08-2020', '10-09-2020', 'Area5', 'Area3', 'Delivered', 275], 106: [5, 2, '28-06-2020', 'Null', 'Area3', 'Area1', 'In-Transit', 275]}\n"
     ]
    }
   ],
   "source": [
    "First = [1 ,3 , \"14/03/2020\", \"25-03-2020\" , \"Area1\" ,\"Area6\" , \"Delivered\",198]\n",
    "Second = [4,1,\"18-06-2020\", \"09-07-2020\", \"Area2\" , \"Area4\", \"Delivered\", 275]\n",
    "Third = [2,3,\"01-12-2020\", \"Null\", \"Area5\", \"Area1\", \"In-Transit\", 200]\n",
    "Fourth = [1,2,\"23-06-2020\", \"25-06-2020\", \"Area1\", \"Area4\", \"Delivered\", 314]\n",
    "Fifth = [3,4,\"29-08-2020\", \"10-09-2020\", \"Area5\", \"Area3\", \"Delivered\", 275]\n",
    "Sixth = [5,2,\"28-06-2020\", \"Null\", \"Area3\", \"Area1\", \"In-Transit\", 275]\n",
    "dict1 = {}\n",
    "dict1[101] = First \n",
    "dict1[102] = Second\n",
    "dict1[103] = Third\n",
    "dict1[104] = Fourth\n",
    "dict1[105] = Fifth\n",
    "dict1[106] = Sixth \n",
    "print (dict1)"
   ]
  },
  {
   "cell_type": "markdown",
   "id": "a56c4a2c",
   "metadata": {},
   "source": [
    "Creating a Dictionary of to store the information of clients given in the table."
   ]
  },
  {
   "cell_type": "code",
   "execution_count": 20,
   "id": "76edc865",
   "metadata": {},
   "outputs": [
    {
     "name": "stdout",
     "output_type": "stream",
     "text": [
      "1 Phillip\n",
      "2 Omega III\n",
      "3 Ramya\n",
      "4 Romesh\n",
      "5 John\n"
     ]
    }
   ],
   "source": [
    "dict2 = {1 : \"Phillip\", 2: \"Omega III\", 3 : \"Ramya\", 4 : \"Romesh\", 5 : \"John\"}\n",
    "for j in dict2:\n",
    "    print(j , dict2[j])\n",
    "    "
   ]
  },
  {
   "cell_type": "markdown",
   "id": "b26e42f8",
   "metadata": {},
   "source": [
    "replacing client’s id with their respective name in shipment dictionary using a loop and dictionary comprehension"
   ]
  },
  {
   "cell_type": "code",
   "execution_count": 23,
   "id": "7990d519",
   "metadata": {},
   "outputs": [
    {
     "data": {
      "text/plain": [
       "{101: ['Phillip',\n",
       "  'Ramya',\n",
       "  '14/03/2020',\n",
       "  '25-03-2020',\n",
       "  'Area1',\n",
       "  'Area6',\n",
       "  'Delivered',\n",
       "  198],\n",
       " 102: ['Romesh',\n",
       "  'Phillip',\n",
       "  '18-06-2020',\n",
       "  '09-07-2020',\n",
       "  'Area2',\n",
       "  'Area4',\n",
       "  'Delivered',\n",
       "  275],\n",
       " 103: ['Omega III',\n",
       "  'Ramya',\n",
       "  '01-12-2020',\n",
       "  'Null',\n",
       "  'Area5',\n",
       "  'Area1',\n",
       "  'In-Transit',\n",
       "  200],\n",
       " 104: ['Phillip',\n",
       "  'Omega III',\n",
       "  '23-06-2020',\n",
       "  '25-06-2020',\n",
       "  'Area1',\n",
       "  'Area4',\n",
       "  'Delivered',\n",
       "  314],\n",
       " 105: ['Ramya',\n",
       "  'Romesh',\n",
       "  '29-08-2020',\n",
       "  '10-09-2020',\n",
       "  'Area5',\n",
       "  'Area3',\n",
       "  'Delivered',\n",
       "  275],\n",
       " 106: ['John',\n",
       "  'Omega III',\n",
       "  '28-06-2020',\n",
       "  'Null',\n",
       "  'Area3',\n",
       "  'Area1',\n",
       "  'In-Transit',\n",
       "  275]}"
      ]
     },
     "execution_count": 23,
     "metadata": {},
     "output_type": "execute_result"
    }
   ],
   "source": [
    "for i in dict1:\n",
    "    for j in dict2:\n",
    "        if dict1[i][0] == j:\n",
    "            dict1[i][0] = dict2[j]\n",
    "        \n",
    "        if dict1[i][1] == j:\n",
    "            dict1[i][1] = dict2[j]\n",
    "dict1\n",
    "\n",
    "\n"
   ]
  },
  {
   "cell_type": "markdown",
   "id": "e37bc1d5",
   "metadata": {},
   "source": [
    "All shipment details that are sent by Phillip"
   ]
  },
  {
   "cell_type": "code",
   "execution_count": 92,
   "id": "f5d4bac6",
   "metadata": {},
   "outputs": [
    {
     "name": "stdout",
     "output_type": "stream",
     "text": [
      "['Phillip', 'Ramya', '14/03/2020', '25-03-2020', 'Area1', 'Area6', 'Delivered', 198]\n",
      "['Phillip', 'Omega III', '23-06-2020', '25-06-2020', 'Area1', 'Area4', 'Delivered', 314]\n"
     ]
    }
   ],
   "source": [
    "for i in dict1:\n",
    "    if (dict1[i][0]== \"Phillip\"):\n",
    "        print(dict1[i])"
   ]
  },
  {
   "cell_type": "markdown",
   "id": "2bad9b6a",
   "metadata": {},
   "source": [
    "shipment details that are received by Ramya"
   ]
  },
  {
   "cell_type": "code",
   "execution_count": 93,
   "id": "24ebca9a",
   "metadata": {},
   "outputs": [
    {
     "name": "stdout",
     "output_type": "stream",
     "text": [
      "['Phillip', 'Ramya', '14/03/2020', '25-03-2020', 'Area1', 'Area6', 'Delivered', 198]\n",
      "['Omega III', 'Ramya', '01-12-2020', 'Null', 'Area5', 'Area1', 'In-Transit', 200]\n"
     ]
    }
   ],
   "source": [
    "for i in dict1:\n",
    "    if(dict1[i][1]=='Ramya'):\n",
    "        print(dict1[i])"
   ]
  },
  {
   "cell_type": "markdown",
   "id": "932bc05e",
   "metadata": {},
   "source": [
    "all shipments which are in 'In-Transit' status"
   ]
  },
  {
   "cell_type": "code",
   "execution_count": 94,
   "id": "f68156b4",
   "metadata": {},
   "outputs": [
    {
     "name": "stdout",
     "output_type": "stream",
     "text": [
      "['Omega III', 'Ramya', '01-12-2020', 'Null', 'Area5', 'Area1', 'In-Transit', 200]\n",
      "['John', 'Omega III', '28-06-2020', 'Null', 'Area3', 'Area1', 'In-Transit', 275]\n"
     ]
    }
   ],
   "source": [
    "for i in dict1:\n",
    "    if (dict1[i][6] == \"In-Transit\"):\n",
    "        print(dict1[i])"
   ]
  },
  {
   "cell_type": "markdown",
   "id": "014d31f0",
   "metadata": {},
   "source": [
    "all shipments which are delivered within 7 days of courier Start date"
   ]
  },
  {
   "cell_type": "code",
   "execution_count": 96,
   "id": "dbe2e42f",
   "metadata": {},
   "outputs": [
    {
     "name": "stdout",
     "output_type": "stream",
     "text": [
      "All shipments delivered within 7 days of start date are: \n",
      "Shipment ID :  104\n",
      "['Phillip', 'Omega III', '23-06-2020', '25-06-2020', 'Area1', 'Area4', 'Delivered', 314]\n"
     ]
    }
   ],
   "source": [
    "print(\"All shipments delivered within 7 days of start date are: \")\n",
    "for i in dict1:\n",
    "    \n",
    "    if (dict1[i][3] == \"Null\"):\n",
    "        pass\n",
    "    else:\n",
    "        s = int(dict1[i][2][0:2])\n",
    "        e = int(dict1[i][3][0:2])\n",
    "        sm = int(dict1[i][2][3:5])\n",
    "        em = int(dict1[i][3][3:5])\n",
    "        buffer = e - s\n",
    "        if (em == sm):\n",
    "            if (buffer <=7):\n",
    "                print(\"Shipment ID : \", i)\n",
    "                print(dict1[i])\n",
    "            else:\n",
    "                pass\n",
    "        elif (em > sm):\n",
    "            newbuff = (30 - s) + (e)\n",
    "            if (newbuff <= 7):\n",
    "                print(\"Shipment Id : \", i)\n",
    "                print(dict1[i])\n",
    "            else:\n",
    "                pass\n",
    "        "
   ]
  },
  {
   "cell_type": "markdown",
   "id": "212a10b1",
   "metadata": {},
   "source": [
    "all shipments which are delivered after 15 days of courier start date or not yet been delivered."
   ]
  },
  {
   "cell_type": "code",
   "execution_count": 97,
   "id": "2a6a21c1",
   "metadata": {},
   "outputs": [
    {
     "name": "stdout",
     "output_type": "stream",
     "text": [
      "All Shipments which are delivered after 15 days of courier start date or not yet been delivered : \n",
      "Shipment Id :  102 ['Romesh', 'Phillip', '18-06-2020', '09-07-2020', 'Area2', 'Area4', 'Delivered', 275]\n",
      "['Omega III', 'Ramya', '01-12-2020', 'Null', 'Area5', 'Area1', 'In-Transit', 200]\n",
      "['John', 'Omega III', '28-06-2020', 'Null', 'Area3', 'Area1', 'In-Transit', 275]\n"
     ]
    }
   ],
   "source": [
    "print(\"All Shipments which are delivered after 15 days of courier start date or not yet been delivered : \")\n",
    "for i in dict1:\n",
    "    \n",
    "    if (dict1[i][3]== \"Null\"):\n",
    "        print(dict1[i])\n",
    "    else:\n",
    "        s = int(dict1[i][2][0:2])\n",
    "        e = int(dict1[i][3][0:2])\n",
    "        sm = int(dict1[i][2][3:5])\n",
    "        em = int(dict1[i][3][3:5])\n",
    "        buffer = e - s\n",
    "        if ( em == sm):\n",
    "            if (buffer > 15):\n",
    "                print(\"Shipment Id : \" , i , dict1[i])\n",
    "            else:\n",
    "                pass\n",
    "        elif( em > sm):\n",
    "            newbuff = (30-s) + (e)\n",
    "            if (newbuff>15):\n",
    "                \n",
    "                print(\"Shipment Id : \" , i , dict1[i])\n",
    "            else:\n",
    "                pass\n",
    "            \n"
   ]
  },
  {
   "cell_type": "markdown",
   "id": "365ecd0b",
   "metadata": {},
   "source": [
    "A function find_all_routes to display all possible routes from senders location to receivers location given in the dictionary for each shipment."
   ]
  },
  {
   "cell_type": "code",
   "execution_count": 95,
   "id": "afaccc9f",
   "metadata": {
    "scrolled": true
   },
   "outputs": [
    {
     "name": "stdout",
     "output_type": "stream",
     "text": [
      "Shipment ID :  101\n",
      "sender's location :  1\n",
      "Reciever's Location 6\n",
      "All possible routed: \n",
      "[1, 6]\n",
      "----------------------------\n",
      "Shipment ID :  102\n",
      "sender's location :  2\n",
      "Reciever's Location 4\n",
      "All possible routed: \n",
      "[2, 3, 4]\n",
      "[2, 4]\n",
      "----------------------------\n",
      "Shipment ID :  103\n",
      "sender's location :  5\n",
      "Reciever's Location 1\n",
      "All possible routed: \n",
      "[5, 4, 2, 1]\n",
      "[5, 4, 3, 2, 1]\n",
      "----------------------------\n",
      "Shipment ID :  104\n",
      "sender's location :  1\n",
      "Reciever's Location 4\n",
      "All possible routed: \n",
      "[1, 2, 3, 4]\n",
      "[1, 2, 4]\n",
      "----------------------------\n",
      "Shipment ID :  105\n",
      "sender's location :  5\n",
      "Reciever's Location 3\n",
      "All possible routed: \n",
      "[5, 4, 2, 3]\n",
      "[5, 4, 3]\n",
      "----------------------------\n",
      "Shipment ID :  106\n",
      "sender's location :  3\n",
      "Reciever's Location 1\n",
      "All possible routed: \n",
      "[3, 2, 1]\n",
      "[3, 4, 2, 1]\n",
      "----------------------------\n"
     ]
    }
   ],
   "source": [
    "def route_all_functions(dict1):\n",
    "    for i in dict1:\n",
    "        print(\"Shipment ID : \" , i)\n",
    "        s = int(dict1[i][4][-1])\n",
    "        print(\"sender's location : \" , s)\n",
    "        r = int(dict1[i][5][-1])\n",
    "        print(\"Reciever's Location\" , r)\n",
    "        print(\"All possible routed: \")\n",
    "        find_all_routes(matrix,s-1,r-1,visited,path)\n",
    "        print(\"----------------------------\")\n",
    "route_all_functions(dict1)\n",
    "\n",
    "\n",
    "\n",
    "\n",
    "def find_all_routes(matrix,u,d,visited,path):\n",
    "    visited[u] = True\n",
    "    path.append(u+1)\n",
    "    if u == d:\n",
    "        print(path)\n",
    "    else:\n",
    "        \n",
    "        for i in range(6):\n",
    "            if matrix[u][i] == 1 and (visited[i] == False):\n",
    "                find_all_routes(matrix,i,d,visited,path)\n",
    "    \n",
    "    path.pop()\n",
    "    visited[u] = False \n",
    "    \n",
    "\n",
    "matrix= [[0,1,0,0,0,1],[1,0,1,1,0,0],[0,1,0,1,0,0],[0,1,1,0,1,0],[0,0,0,1,0,0],[1,0,0,0,0,0]]\n",
    "visited = [False,False,False,False,False,False]\n",
    "path = []\n"
   ]
  },
  {
   "cell_type": "markdown",
   "id": "6eca8a36",
   "metadata": {},
   "source": [
    "My Understanding of Graph Theory :\n",
    "The study of graphs, which are mathematical structures used to model pairwise relationships between things, is known as graph theory in mathematics. In this context, a graph is made up of vertices (also known as nodes or points) connected by edges (also called links or lines). Undirected graphs, in which edges connect two vertices symmetrically, are distinguished from directed graphs, in which edges connect two vertices asymmetrically. Graphs are one of the most important topics in discrete mathematics.\n",
    "Data structures is an area of computer science that uses graphs to represent communication networks, data organisation, computing devices, computation flow, and so on. A directed graph, for example, can describe a website's link structure, with vertices representing web pages and directed edges representing links from one page to another. A similar approach can be used to solve difficulties in social media travel, biology, computer chip design, neurodegenerative disease progression mapping, and many other domains. As a result, developing algorithms to manage graphs is a hot topic in computer science. Graph rewrite systems are frequently used to describe and depict graph transformations. Graph databases, which are designed for transaction-safe, persistent storing and querying of graph-structured data, are a complement to graph transformation systems that focus on rule-based in-memory graph manipulation.\n",
    "\n",
    "\n"
   ]
  }
 ],
 "metadata": {
  "kernelspec": {
   "display_name": "Python 3 (ipykernel)",
   "language": "python",
   "name": "python3"
  },
  "language_info": {
   "codemirror_mode": {
    "name": "ipython",
    "version": 3
   },
   "file_extension": ".py",
   "mimetype": "text/x-python",
   "name": "python",
   "nbconvert_exporter": "python",
   "pygments_lexer": "ipython3",
   "version": "3.9.12"
  }
 },
 "nbformat": 4,
 "nbformat_minor": 5
}
